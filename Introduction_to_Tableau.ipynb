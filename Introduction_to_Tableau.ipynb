{
 "cells": [
  {
   "cell_type": "markdown",
   "id": "parliamentary-schedule",
   "metadata": {},
   "source": [
    "# Introduction to Tableau\n",
    "\n",
    "*\"Tableau is a visual analytics platform transforming the way we use data to solve problems—empowering people and organizations to make the most of their data.\"* - Quoted from Tableau.com\n",
    "\n",
    "![tableau](https://images.squarespace-cdn.com/content/v1/587670ef03596ec731de6e3d/1486276069386-ENNKG7EAXQBUZHPMEY37/Tableau+Logo.png?format=750w)\n",
    "\n",
    "Generally speaking, Tableau is one of the most popular commercial data analytic tools in the data analytic field. It's a powerful toool that translate raw data into highly interpretatble visualization and business dashboard.  We will be exploring some of the basic features of Tablean in this section, but there are many more you can explore after this course.\n",
    "\n",
    "You should also consider taking the Tableau Desktop Certification, which can boost your technical appearance on the resume."
   ]
  },
  {
   "cell_type": "markdown",
   "id": "macro-algorithm",
   "metadata": {},
   "source": [
    "## Tableau Desktop\n",
    "\n",
    "In this course, we are going to focus on **Tableau Desktop** to connect to different data source, creating different plots and tables, and building a business dashboard. You can download the Tableau Desktop from the following link,\n",
    "\n",
    "https://www.tableau.com/products/desktop\n",
    "\n",
    "Once you downloaded the software and installed to your machine, you can apply for the student license to have 1 year full access of the software.  Detail can be found in the following link.\n",
    "\n",
    "https://www.tableau.com/academic/students\n",
    "\n",
    "### Dataset\n",
    "\n",
    "In this course, we will be using the **Super Store Sales** dataset for learning different features on Tableau.  You don't need to download the dataset since it's part of the package that you install on your machine."
   ]
  },
  {
   "cell_type": "markdown",
   "id": "phantom-logan",
   "metadata": {},
   "source": [
    "## Connect to Source of Data\n",
    "\n",
    "Before we think about visualizing data, we need to first connect to it and bring it into Tableau. We are going to cover how you connect to Excel as a data source in this course, but Tableau is also capable to connect to different data sources, such as PDF table, JSON, database, and other software data formats.\n",
    "\n",
    "### Importing Excel File into Tableau\n",
    "\n",
    "When you launch the Tableau Desktop app on your machine, you shoud see this initial page.\n",
    "\n",
    "![tableau 2.1](images/2.1.png)\n",
    "\n",
    "On the left-hand side is the connection pane, that lists all the type of data connection that Tableau can make. If you click on the Tableau icon in the top left-hand corner of the user interface, it will take you back to this view.  \n",
    "\n",
    "To connect to an Excel data source, we will click on the Excel tab and it will open up your default location for your data sources. You can navigate to the data folder in this repository to open the ```crime_data.xlsx``` file. It should bring you to this data page.\n",
    "\n",
    "![tableau 2.2](images/2.2.png)\n",
    "\n",
    "The first thing Tableau would do, is open up that Excel file and look for any sheets that are inside it.  Tableau will then consider each sheet to be a table of data. So even though you might see tables being used and indeed in the center of the screen, it will say drag tables here, because we are connecting to Excel, Excel sheets are the equivalent of a table within a database. In this first example, since we only have one Excel sheet, so Tableau displays the first thousand rows of the table by default. We can look at this table and have a good sense of what my data is going to look like. We can also rename any of the column names in this interface if we want by clciking on the little arrow next to the column name and click on 'rename'.\n",
    "\n",
    "If we are happy with the dataset, we could then click on the bottom left-hand corner, go to worksheet and I can start building my visualization.\n",
    "\n",
    "Note: If the Excel file is not in the structure that Tableau is expecting to read, e.g. the first few rows are not column names or data, but some description of the file, in such case, we can click on the powerful **data interpreter** feature on the left-hand pane, so that Tableau will look into the data file and try its best to look for the logical row to begin the data import.\n",
    "\n",
    "#### Exercise:\n",
    "\n",
    "Let's try to connect the **Super Store Sales** Excel file in the data folder and open the \"ORDER\" sheet / table in this file."
   ]
  },
  {
   "cell_type": "markdown",
   "id": "victorian-gates",
   "metadata": {},
   "source": [
    "## Blue and Green Fields\n",
    "\n",
    "In Tableau, the basic concept that helps us understand how Tableau works is to know the difference between blue and green fields. Knowing how Tableau handles these two differetn field types will really help you see what Tableau is doing under the hood. To understand what is a Blue and Green field, we can take a look of the data pane on the left-hand side of the worksheet.\n",
    "\n",
    "![BlueGreen 3.1](images/3.1.png)\n",
    "\n",
    "Generally speaking, the blue field defines categorical or discrete data type, whereas the green field indicate the data is numerical or continous data type. Everything that you build in Tableau depends on whether we're using a green continuous field, or a blue discrete field. The first thing to understand is how we actually build a visualization, that is using drag and drop. So what we do is we drag and drop a continuous, or a discrete field onto our rows and columns and that will build the visualization. The combination of discrete continuous field determine the type of visualization that we get, whether it's a bar chart, a line chart, a pie chart, but to understand that we need to see the difference between using discrete and continuous field and Tableau has two very strict rules for this.\n",
    "\n",
    "1. Every continuous field that we put on a row or a column, we get an axis. For example, if I drag and drop the sales onto the column, we get one axis of the sum of sales.\n",
    "\n",
    "2. For every discrete field that we have on the row or the column, we are going to get a header. So a header is a list of all of hte values contained in that field, for example, if I put category onto the rows, I get a category header and lised are all of the different options within that category field, so in this case furniture, office supplies, technology.\n",
    "\n",
    "We can apply these two rules and start thinking about what we can pass into the row and column, so that we can create something that we want to visualize from the data."
   ]
  },
  {
   "cell_type": "code",
   "execution_count": null,
   "id": "alone-forty",
   "metadata": {},
   "outputs": [],
   "source": []
  }
 ],
 "metadata": {
  "hide_input": false,
  "kernelspec": {
   "display_name": "Python 3",
   "language": "python",
   "name": "python3"
  },
  "language_info": {
   "codemirror_mode": {
    "name": "ipython",
    "version": 3
   },
   "file_extension": ".py",
   "mimetype": "text/x-python",
   "name": "python",
   "nbconvert_exporter": "python",
   "pygments_lexer": "ipython3",
   "version": "3.7.1"
  },
  "nbTranslate": {
   "displayLangs": [
    "*"
   ],
   "hotkey": "alt-t",
   "langInMainMenu": true,
   "sourceLang": "en",
   "targetLang": "fr",
   "useGoogleTranslate": true
  },
  "varInspector": {
   "cols": {
    "lenName": 16,
    "lenType": 16,
    "lenVar": 40
   },
   "kernels_config": {
    "python": {
     "delete_cmd_postfix": "",
     "delete_cmd_prefix": "del ",
     "library": "var_list.py",
     "varRefreshCmd": "print(var_dic_list())"
    },
    "r": {
     "delete_cmd_postfix": ") ",
     "delete_cmd_prefix": "rm(",
     "library": "var_list.r",
     "varRefreshCmd": "cat(var_dic_list()) "
    }
   },
   "types_to_exclude": [
    "module",
    "function",
    "builtin_function_or_method",
    "instance",
    "_Feature"
   ],
   "window_display": false
  }
 },
 "nbformat": 4,
 "nbformat_minor": 5
}
